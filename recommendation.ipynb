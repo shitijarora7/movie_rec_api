{
 "cells": [
  {
   "cell_type": "code",
   "execution_count": 1,
   "metadata": {},
   "outputs": [
    {
     "name": "stderr",
     "output_type": "stream",
     "text": [
      "c:\\users\\shitij\\appdata\\local\\programs\\python\\python36\\lib\\importlib\\_bootstrap.py:219: RuntimeWarning: numpy.ufunc size changed, may indicate binary incompatibility. Expected 192 from C header, got 216 from PyObject\n",
      "  return f(*args, **kwds)\n"
     ]
    }
   ],
   "source": [
    "import pandas as pd\n",
    "import scipy.sparse as sp\n",
    "from sklearn.feature_extraction.text import CountVectorizer, TfidfVectorizer\n",
    "from sklearn.metrics.pairwise import cosine_similarity"
   ]
  },
  {
   "cell_type": "code",
   "execution_count": 2,
   "metadata": {},
   "outputs": [],
   "source": [
    "def get_data():\n",
    "    movie_data = pd.read_csv('movie_data.csv')\n",
    "    movie_data['original_title'] = movie_data['original_title'].str.lower()\n",
    "    return movie_data"
   ]
  },
  {
   "cell_type": "code",
   "execution_count": 3,
   "metadata": {},
   "outputs": [],
   "source": [
    "def combine_data(data):\n",
    "        data_recommend = data.drop(columns=['movie_id', 'original_title','plot'])\n",
    "        data_recommend['combine'] = data_recommend[data_recommend.columns[0:2]].apply(\n",
    "                                                                        lambda x: ','.join(x.dropna().astype(str)),axis=1)\n",
    "        \n",
    "        data_recommend = data_recommend.drop(columns=[ 'cast','genres'])\n",
    "        return data_recommend"
   ]
  },
  {
   "cell_type": "code",
   "execution_count": 4,
   "metadata": {},
   "outputs": [],
   "source": [
    "def transform_data(data_combine, data_plot):\n",
    "        count = CountVectorizer(stop_words='english')\n",
    "        count_matrix = count.fit_transform(data_combine['combine'])\n",
    "\n",
    "        tfidf = TfidfVectorizer(stop_words='english')\n",
    "        tfidf_matrix = tfidf.fit_transform(data_plot['plot'])\n",
    "\n",
    "        combine_sparse = sp.hstack([count_matrix, tfidf_matrix], format='csr')\n",
    "        cosine_sim = cosine_similarity(combine_sparse, combine_sparse)\n",
    "        \n",
    "        return cosine_sim"
   ]
  },
  {
   "cell_type": "code",
   "execution_count": 5,
   "metadata": {},
   "outputs": [],
   "source": [
    "def recommend_movies(title, data, combine, transform):\n",
    "        indices = pd.Series(data.index, index = data['original_title'])\n",
    "        index = indices[title]\n",
    "\n",
    "        sim_scores = list(enumerate(transform[index]))\n",
    "        sim_scores = sorted(sim_scores, key=lambda x: x[1], reverse=True)\n",
    "        sim_scores = sim_scores[1:21]\n",
    "        \n",
    "        movie_indices = [i[0] for i in sim_scores]\n",
    "\n",
    "        movie_id = data['movie_id'].iloc[movie_indices]\n",
    "        movie_title = data['original_title'].iloc[movie_indices]\n",
    "        movie_genres = data['genres'].iloc[movie_indices]\n",
    "\n",
    "        recommendation_data = pd.DataFrame(columns=['Movie_Id','Name', 'Genres'])\n",
    "\n",
    "        recommendation_data['Movie_Id'] = movie_id\n",
    "        recommendation_data['Name'] = movie_title\n",
    "        recommendation_data['Genres'] = movie_genres\n",
    "\n",
    "        return recommendation_data"
   ]
  },
  {
   "cell_type": "code",
   "execution_count": 6,
   "metadata": {},
   "outputs": [],
   "source": [
    "def results(movie_name):\n",
    "        movie_name = movie_name.lower()\n",
    "\n",
    "        find_movie = get_data()\n",
    "        combine_result = combine_data(find_movie)\n",
    "        transform_result = transform_data(combine_result,find_movie)\n",
    "\n",
    "        if movie_name not in find_movie['original_title'].unique():\n",
    "                return 'Movie not in Database'\n",
    "\n",
    "        else:\n",
    "                recommendations = recommend_movies(movie_name, find_movie, combine_result, transform_result)\n",
    "                return recommendations.to_dict('records')\n"
   ]
  },
  {
   "cell_type": "code",
   "execution_count": 7,
   "metadata": {},
   "outputs": [
    {
     "data": {
      "text/plain": [
       "[{'Movie_Id': '49026',\n",
       "  'Name': 'the dark knight rises',\n",
       "  'Genres': \"['Action', 'Crime', 'Drama']\"},\n",
       " {'Movie_Id': '272',\n",
       "  'Name': 'batman begins',\n",
       "  'Genres': \"['Action', 'Crime', 'Drama']\"},\n",
       " {'Movie_Id': '378237',\n",
       "  'Name': \"amidst the devil's wings\",\n",
       "  'Genres': \"['Drama', 'Action', 'Crime']\"},\n",
       " {'Movie_Id': '168672',\n",
       "  'Name': 'american hustle',\n",
       "  'Genres': \"['Drama', 'Crime']\"},\n",
       " {'Movie_Id': '7873',\n",
       "  'Name': 'harsh times',\n",
       "  'Genres': \"['Crime', 'Drama', 'Thriller']\"},\n",
       " {'Movie_Id': '164457',\n",
       "  'Name': 'out of the furnace',\n",
       "  'Genres': \"['Thriller', 'Drama', 'Crime']\"},\n",
       " {'Movie_Id': '5955',\n",
       "  'Name': 'the pledge',\n",
       "  'Genres': \"['Crime', 'Drama', 'Mystery']\"},\n",
       " {'Movie_Id': '11322',\n",
       "  'Name': 'public enemies',\n",
       "  'Genres': \"['History', 'Crime', 'Drama']\"},\n",
       " {'Movie_Id': '147441',\n",
       "  'Name': 'exodus: gods and kings',\n",
       "  'Genres': \"['Adventure', 'Drama', 'Action']\"},\n",
       " {'Movie_Id': '267860',\n",
       "  'Name': 'london has fallen',\n",
       "  'Genres': \"['Action', 'Crime', 'Thriller']\"},\n",
       " {'Movie_Id': '1359',\n",
       "  'Name': 'american psycho',\n",
       "  'Genres': \"['Thriller', 'Drama', 'Crime']\"},\n",
       " {'Movie_Id': '136797',\n",
       "  'Name': 'need for speed',\n",
       "  'Genres': \"['Action', 'Crime', 'Drama']\"},\n",
       " {'Movie_Id': '479',\n",
       "  'Name': 'shaft',\n",
       "  'Genres': \"['Action', 'Adventure', 'Crime']\"},\n",
       " {'Movie_Id': 'tt1228707',\n",
       "  'Name': 'jimmy',\n",
       "  'Genres': \"['Action', 'Crime', 'Drama']\"},\n",
       " {'Movie_Id': 'tt1920986',\n",
       "  'Name': 'khuda kasam',\n",
       "  'Genres': \"['Action', 'Crime', 'Drama']\"},\n",
       " {'Movie_Id': '462', 'Name': 'erin brockovich', 'Genres': \"['Drama']\"},\n",
       " {'Movie_Id': '45317', 'Name': 'the fighter', 'Genres': \"['Drama']\"},\n",
       " {'Movie_Id': '9676', 'Name': 'the black dahlia', 'Genres': \"['Drama']\"},\n",
       " {'Movie_Id': '334531', 'Name': 'my all american', 'Genres': \"['Drama']\"},\n",
       " {'Movie_Id': 'tt0379818',\n",
       "  'Name': 'i proud to be an indian',\n",
       "  'Genres': \"['Action', 'Crime', 'Drama']\"}]"
      ]
     },
     "execution_count": 7,
     "metadata": {},
     "output_type": "execute_result"
    }
   ],
   "source": [
    "results('The Dark Knight')"
   ]
  },
  {
   "cell_type": "code",
   "execution_count": null,
   "metadata": {},
   "outputs": [],
   "source": []
  }
 ],
 "metadata": {
  "kernelspec": {
   "display_name": "Python 3",
   "language": "python",
   "name": "python3"
  },
  "language_info": {
   "codemirror_mode": {
    "name": "ipython",
    "version": 3
   },
   "file_extension": ".py",
   "mimetype": "text/x-python",
   "name": "python",
   "nbconvert_exporter": "python",
   "pygments_lexer": "ipython3",
   "version": "3.6.8"
  }
 },
 "nbformat": 4,
 "nbformat_minor": 4
}
